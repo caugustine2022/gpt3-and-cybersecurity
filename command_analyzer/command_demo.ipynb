{
 "cells": [
  {
   "cell_type": "code",
   "execution_count": 1,
   "metadata": {},
   "outputs": [],
   "source": [
    "import os\n",
    "import logging\n",
    "\n",
    "os.environ[\"OPENAI_API_KEY\"] = \"YOUR_API_KEY\"\n",
    "\n",
    "from command_analyzer import generate_description\n",
    "\n",
    "logging.disable(logging.CRITICAL)\n",
    "\n",
    "def command_to_description(command, tags):\n",
    "    description, baseline_description, candidates = generate_description(command, tags)\n",
    "    print(\"description:\\n{}\".format(description))\n",
    "    print(\"baseline_description:\\n{}\".format(baseline_description))    \n"
   ]
  },
  {
   "cell_type": "code",
   "execution_count": 2,
   "metadata": {},
   "outputs": [],
   "source": [
    "#update the \"YOUR_API_KEY\" with your key value."
   ]
  },
  {
   "cell_type": "code",
   "execution_count": 3,
   "metadata": {},
   "outputs": [
    {
     "name": "stdout",
     "output_type": "stream",
     "text": [
      "description:\n",
      "The command will create a registry value \"command\" under the registry key \"hkcu\\software\\classes\\ms-settings\\shell\\open\" and set its default value to \"reg.exe save hklm\\sam C:\\Users\\Pcs\\AppData\\Local\\Temp\\sam.save\". This default value will then be executed when the user clicks on the Windows \"Settings\" icon. The command will add a value under the \"reg.exe\" key in the \"open\\command\" directory of the \"ms-settings\" key in the \"HKCU\" hive. The value data is \"reg.exe save hklm\\sam C:\\Users\\Pcs\\AppData\\Local\\Temp\\sam.save\".\n",
      "baseline_description:\n",
      "The command will attempt to dump the SAM registry hive to the specified path.\n"
     ]
    }
   ],
   "source": [
    "command = \"reg.exe  add hkcu\\\\software\\\\classes\\\\ms-settings\\\\shell\\\\open\\\\command /ve /d \\\"reg.exe save hklm\\\\sam C:\\\\Users\\\\Pcs\\\\AppData\\\\Local\\\\Temp\\\\sam.save\\\" /f\"\n",
    "tags = \"win_pc_reg_dump_sam,win_pc_suspicious_reg_open_command\"\n",
    "command_to_description(command, tags)\n"
   ]
  },
  {
   "cell_type": "code",
   "execution_count": 4,
   "metadata": {},
   "outputs": [
    {
     "name": "stdout",
     "output_type": "stream",
     "text": [
      "description:\n",
      "The command will echo the \"dir\" command to a file called \"execute.bat\", write the command to the \"execute.bat\" file, and then execute the \"execute.bat\" file. This command will list the contents of the directory \"C:\\Users\\tboulanger\\OneDrive - MOBIUS BENEFIT ADMINISTRATORS INC\" and write the output to \"\\\\127.0.0.1\\C$\\__output\". The \"dir\" command will be executed as the \"Local System\" account.\n",
      "baseline_description:\n",
      "The command will list the contents of the \"C:\\Users\\tboulanger\\OneDrive - MOBIUS BENEFIT ADMINISTRATORS INC\" directory and save the output to \"C:\\__output\". It will be executed as the LocalSystem account.\n"
     ]
    }
   ],
   "source": [
    "command = \"C:\\\\WINDOWS\\\\system32\\\\cmd.exe /Q /c echo dir \\\"C:\\\\Users\\\\tboulanger\\\\OneDrive - MOBIUS BENEFIT ADMINISTRATORS INC\\\" ^> \\\\\\\\127.0.0.1\\\\C$\\\\__output 2^>^&1 > C:\\\\WINDOWS\\\\TEMP\\\\execute.bat & C:\\\\WINDOWS\\\\system32\\\\cmd.exe /Q /c C:\\\\WINDOWS\\\\TEMP\\\\execute.bat & del C:\\\\WINDOWS\\\\TEMP\\\\execute.bat\"\n",
    "tags = \"win_local_system_owner_account_discovery\"\n",
    "command_to_description(command, tags)"
   ]
  },
  {
   "cell_type": "code",
   "execution_count": 5,
   "metadata": {},
   "outputs": [
    {
     "name": "stdout",
     "output_type": "stream",
     "text": [
      "description:\n",
      "The command will recursively list all files in the \"C:\\Users\\Pcs\\Desktop\" directory and all subdirectories, and will search the output for files containing the word \"password\".\n",
      "baseline_description:\n",
      "The command will list all files and directories on the target machine and pipe the output to a search for the string \"password\".\n"
     ]
    }
   ],
   "source": [
    "command = \"\\\"cmd.exe\\\" dir /b /s \\\"C:\\\\Users\\\\Pcs\\\\Desktop\\\\*.*\\\" | findstr /i \\\"password\\\"\"\n",
    "tags = \"win_pc_suspicious_dir,win_suspicious_findstr\"\n",
    "command_to_description(command, tags)"
   ]
  }
 ],
 "metadata": {
  "kernelspec": {
   "display_name": "Python 3.7.3 ('py37')",
   "language": "python",
   "name": "python3"
  },
  "language_info": {
   "codemirror_mode": {
    "name": "ipython",
    "version": 3
   },
   "file_extension": ".py",
   "mimetype": "text/x-python",
   "name": "python",
   "nbconvert_exporter": "python",
   "pygments_lexer": "ipython3",
   "version": "3.7.3"
  },
  "orig_nbformat": 4,
  "vscode": {
   "interpreter": {
    "hash": "76a25e87fb8c87bd2343da81e5596777f4c7870efa99cccebacc9b427c0a0b42"
   }
  }
 },
 "nbformat": 4,
 "nbformat_minor": 2
}
