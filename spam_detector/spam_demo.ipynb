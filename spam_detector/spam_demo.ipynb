{
 "cells": [
  {
   "cell_type": "code",
   "execution_count": 1,
   "metadata": {},
   "outputs": [],
   "source": [
    "import os\n",
    "import logging\n",
    "\n",
    "os.environ[\"OPENAI_API_KEY\"] = \"YOUR_API_KEY\"\n",
    "\n",
    "from spam_detector import classify_message\n",
    "\n",
    "logging.disable(logging.CRITICAL)\n",
    "\n",
    "def test_message(message, label):\n",
    "    model_label = classify_message(\n",
    "        message, \n",
    "        path_train_data=\"spam_data/experiment_1/train_2.csv\", \n",
    "        num_samples_in_prompt=2\n",
    "    )\n",
    "    print(\"label:{}, model_label:{}\".format(label, model_label))\n"
   ]
  },
  {
   "cell_type": "code",
   "execution_count": null,
   "metadata": {},
   "outputs": [],
   "source": [
    "#update the \"YOUR_API_KEY\" with your key value."
   ]
  },
  {
   "cell_type": "code",
   "execution_count": 2,
   "metadata": {},
   "outputs": [
    {
     "name": "stdout",
     "output_type": "stream",
     "text": [
      "label:Spam, model_label:Spam\n"
     ]
    }
   ],
   "source": [
    "message = \"Reply with your name and address and YOU WILL RECEIVE BY POST a weeks completely free accommodation at various global locations www.phb1.com ph:08700435505150p\"\n",
    "\n",
    "test_message(message, label=\"Spam\")"
   ]
  },
  {
   "cell_type": "code",
   "execution_count": 3,
   "metadata": {},
   "outputs": [
    {
     "name": "stdout",
     "output_type": "stream",
     "text": [
      "label:Spam, model_label:Spam\n"
     ]
    }
   ],
   "source": [
    "message = \"Bloomberg -Message center +447797706009 Why wait? Apply for your future http://careers. bloomberg.com\"\n",
    "\n",
    "test_message(message, label=\"Spam\")"
   ]
  },
  {
   "cell_type": "code",
   "execution_count": 4,
   "metadata": {},
   "outputs": [
    {
     "name": "stdout",
     "output_type": "stream",
     "text": [
      "label:Ham, model_label:Ham\n"
     ]
    }
   ],
   "source": [
    "message = \"And you! Will expect you whenever you text! Hope all goes well tomo\"\n",
    "\n",
    "test_message(message, label=\"Ham\")"
   ]
  },
  {
   "cell_type": "code",
   "execution_count": 5,
   "metadata": {},
   "outputs": [
    {
     "name": "stdout",
     "output_type": "stream",
     "text": [
      "label:Ham, model_label:Ham\n"
     ]
    }
   ],
   "source": [
    "message = \"I'm okay. Chasing the dream. What's good. What are you doing next.\"\n",
    "\n",
    "test_message(message, label=\"Ham\")"
   ]
  }
 ],
 "metadata": {
  "kernelspec": {
   "display_name": "Python 3.7.3 ('py37')",
   "language": "python",
   "name": "python3"
  },
  "language_info": {
   "codemirror_mode": {
    "name": "ipython",
    "version": 3
   },
   "file_extension": ".py",
   "mimetype": "text/x-python",
   "name": "python",
   "nbconvert_exporter": "python",
   "pygments_lexer": "ipython3",
   "version": "3.7.3"
  },
  "orig_nbformat": 4,
  "vscode": {
   "interpreter": {
    "hash": "76a25e87fb8c87bd2343da81e5596777f4c7870efa99cccebacc9b427c0a0b42"
   }
  }
 },
 "nbformat": 4,
 "nbformat_minor": 2
}
